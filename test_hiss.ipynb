{
 "cells": [
  {
   "cell_type": "markdown",
   "id": "518cc500",
   "metadata": {},
   "source": [
    "# Upplägg att fråga användaren"
   ]
  },
  {
   "cell_type": "markdown",
   "id": "8b62c31a",
   "metadata": {},
   "source": [
    "### Metod att räkna ut för användaren"
   ]
  },
  {
   "cell_type": "markdown",
   "id": "9d8a9719",
   "metadata": {},
   "source": [
    "Person har max råd med 3 miljoner kronor \n",
    "\n",
    "Max 5000 kr i avgift\n",
    "\n",
    "Bostadsutgifterna får max vara 50% av personens lön **efter skatt.**\n",
    "\n",
    "Ränta: 3.5%"
   ]
  },
  {
   "cell_type": "code",
   "execution_count": null,
   "id": "753521d0",
   "metadata": {},
   "outputs": [],
   "source": [
    "def calculator(salary, apm_price, rent, fee, threshold):\n",
    "    rent_price = apm_price * (rent/100)\n",
    "    decimal_threshold = threshold / 100 # 0.5\n",
    "    if salary - (rent_price + fee) <= salary * decimal_threshold:\n",
    "        return True\n",
    "    else:\n",
    "        return False\n",
    "\n",
    "\n",
    "calculator(30000, 3000000, 3.5, 5000, 50)"
   ]
  }
 ],
 "metadata": {
  "kernelspec": {
   "display_name": "hitta_his_ab",
   "language": "python",
   "name": "python3"
  },
  "language_info": {
   "name": "python",
   "version": "3.11.3"
  }
 },
 "nbformat": 4,
 "nbformat_minor": 5
}
