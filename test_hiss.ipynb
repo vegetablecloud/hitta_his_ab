{
 "cells": [
  {
   "cell_type": "markdown",
   "id": "518cc500",
   "metadata": {},
   "source": [
    "# Upplägg att fråga användaren"
   ]
  },
  {
   "cell_type": "markdown",
   "id": "8b62c31a",
   "metadata": {},
   "source": [
    "### Metod att räkna ut för användaren"
   ]
  },
  {
   "cell_type": "markdown",
   "id": "9d8a9719",
   "metadata": {},
   "source": [
    "Person har max råd med 3 miljoner kronor \n",
    "\n",
    "Max 5000 kr i avgift\n",
    "\n",
    "Bostadsutgifterna får max vara 50% av personens lön **efter skatt.**\n",
    "\n",
    "Ränta: 3.5%"
   ]
  },
  {
   "cell_type": "code",
   "execution_count": 14,
   "id": "753521d0",
   "metadata": {},
   "outputs": [
    {
     "data": {
      "text/plain": [
       "True"
      ]
     },
     "execution_count": 14,
     "metadata": {},
     "output_type": "execute_result"
    }
   ],
   "source": [
    "def calculator(salary, apm_price, rent, fee, threshold):\n",
    "    rent_price_month = (apm_price * (rent/100)) / 12 # 1000000 * 0.035 / 12 = 2900\n",
    "    decimal_threshold = threshold / 100 # 0.5\n",
    "    # 30000 - 2900 + 5000(7900) = om 22100 <= 15000\n",
    "    if salary - (rent_price_month + fee) <= salary * decimal_threshold:\n",
    "        return False\n",
    "    else:\n",
    "        return True\n",
    "\n",
    "\n",
    "calculator(30000, 1000000, 3.5, 5000, 50)"
   ]
  },
  {
   "cell_type": "code",
   "execution_count": null,
   "id": "1007976e",
   "metadata": {},
   "outputs": [],
   "source": []
  }
 ],
 "metadata": {
  "kernelspec": {
   "display_name": "hitta_his_ab",
   "language": "python",
   "name": "python3"
  },
  "language_info": {
   "codemirror_mode": {
    "name": "ipython",
    "version": 3
   },
   "file_extension": ".py",
   "mimetype": "text/x-python",
   "name": "python",
   "nbconvert_exporter": "python",
   "pygments_lexer": "ipython3",
   "version": "3.12.8"
  }
 },
 "nbformat": 4,
 "nbformat_minor": 5
}
